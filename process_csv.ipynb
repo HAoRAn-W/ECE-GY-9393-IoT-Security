{
 "cells": [
  {
   "cell_type": "code",
   "execution_count": 1,
   "id": "d224944b-e947-428b-a1e4-8cf9f0162530",
   "metadata": {},
   "outputs": [],
   "source": [
    "import pandas as pd"
   ]
  },
  {
   "cell_type": "code",
   "execution_count": 2,
   "id": "54a4988f-e1b0-4597-aab4-b325a0f25ffb",
   "metadata": {},
   "outputs": [],
   "source": [
    "df = pd.read_csv('iot_class_data_class_output_hostname_df.csv')"
   ]
  },
  {
   "cell_type": "code",
   "execution_count": 3,
   "id": "b076ff44-7ec5-45c6-8c24-754b877ae093",
   "metadata": {},
   "outputs": [],
   "source": [
    "df = df.drop('device_id', axis=1)"
   ]
  },
  {
   "cell_type": "code",
   "execution_count": 4,
   "id": "f25b647e-2982-434c-a1c9-271ac92fc80e",
   "metadata": {},
   "outputs": [],
   "source": [
    "df = df.drop_duplicates()"
   ]
  },
  {
   "cell_type": "code",
   "execution_count": 5,
   "id": "0e6f31e4-d241-4535-97d7-8e31c059de3b",
   "metadata": {},
   "outputs": [
    {
     "data": {
      "text/html": [
       "<div>\n",
       "<style scoped>\n",
       "    .dataframe tbody tr th:only-of-type {\n",
       "        vertical-align: middle;\n",
       "    }\n",
       "\n",
       "    .dataframe tbody tr th {\n",
       "        vertical-align: top;\n",
       "    }\n",
       "\n",
       "    .dataframe thead th {\n",
       "        text-align: right;\n",
       "    }\n",
       "</style>\n",
       "<table border=\"1\" class=\"dataframe\">\n",
       "  <thead>\n",
       "    <tr style=\"text-align: right;\">\n",
       "      <th></th>\n",
       "      <th>remote_hostname</th>\n",
       "    </tr>\n",
       "  </thead>\n",
       "  <tbody>\n",
       "    <tr>\n",
       "      <th>0</th>\n",
       "      <td>googleusercontent.com</td>\n",
       "    </tr>\n",
       "    <tr>\n",
       "      <th>4</th>\n",
       "      <td>google.com</td>\n",
       "    </tr>\n",
       "    <tr>\n",
       "      <th>11</th>\n",
       "      <td>gstatic.com</td>\n",
       "    </tr>\n",
       "    <tr>\n",
       "      <th>13</th>\n",
       "      <td>nflxso.net</td>\n",
       "    </tr>\n",
       "    <tr>\n",
       "      <th>14</th>\n",
       "      <td>netflix.com</td>\n",
       "    </tr>\n",
       "  </tbody>\n",
       "</table>\n",
       "</div>"
      ],
      "text/plain": [
       "          remote_hostname\n",
       "0   googleusercontent.com\n",
       "4              google.com\n",
       "11            gstatic.com\n",
       "13             nflxso.net\n",
       "14            netflix.com"
      ]
     },
     "execution_count": 5,
     "metadata": {},
     "output_type": "execute_result"
    }
   ],
   "source": [
    "df.head()"
   ]
  },
  {
   "cell_type": "code",
   "execution_count": 6,
   "id": "80f3acbe-8cdc-418c-b422-4df6b7f13c79",
   "metadata": {},
   "outputs": [],
   "source": [
    "df.to_csv('domains.csv', index=False)"
   ]
  },
  {
   "cell_type": "code",
   "execution_count": 7,
   "id": "67ba1fcd-803e-4449-8607-573bca15f411",
   "metadata": {},
   "outputs": [
    {
     "data": {
      "text/plain": [
       "remote_hostname    3561\n",
       "dtype: int64"
      ]
     },
     "execution_count": 7,
     "metadata": {},
     "output_type": "execute_result"
    }
   ],
   "source": [
    "df.count()"
   ]
  },
  {
   "cell_type": "code",
   "execution_count": 9,
   "id": "987e281d-779d-4ced-805d-232efe2d6d67",
   "metadata": {},
   "outputs": [
    {
     "name": "stdout",
     "output_type": "stream",
     "text": [
      "googleusercontent.com\n",
      "google.com\n",
      "gstatic.com\n",
      "nflxso.net\n",
      "netflix.com\n",
      "scdn.co\n",
      "spotify.com\n",
      "nflxext.com\n",
      "sentry-cdn.com\n",
      "amazonaws.com\n"
     ]
    }
   ],
   "source": [
    "for i in range(0, 10):\n",
    "    print(df.iloc[i]['remote_hostname'])"
   ]
  }
 ],
 "metadata": {
  "kernelspec": {
   "display_name": "Python 3 (ipykernel)",
   "language": "python",
   "name": "python3"
  },
  "language_info": {
   "codemirror_mode": {
    "name": "ipython",
    "version": 3
   },
   "file_extension": ".py",
   "mimetype": "text/x-python",
   "name": "python",
   "nbconvert_exporter": "python",
   "pygments_lexer": "ipython3",
   "version": "3.9.13"
  }
 },
 "nbformat": 4,
 "nbformat_minor": 5
}
