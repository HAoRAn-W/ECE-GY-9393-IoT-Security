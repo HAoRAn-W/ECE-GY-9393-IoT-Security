{
 "cells": [
  {
   "cell_type": "code",
   "execution_count": 1,
   "id": "d2f273e1-cc0b-44ce-a534-c3af2d258389",
   "metadata": {},
   "outputs": [],
   "source": [
    "import pandas as pd"
   ]
  },
  {
   "cell_type": "code",
   "execution_count": 7,
   "id": "ffd415cc-4e08-4830-8dfb-13ed239d9531",
   "metadata": {},
   "outputs": [],
   "source": [
    "# change the file name here\n",
    "domains = pd.read_csv(\"./first-500/first500_haoran.csv\")"
   ]
  },
  {
   "cell_type": "code",
   "execution_count": 8,
   "id": "8c12cc3e-cdd3-476c-99a0-d8ae98791f6b",
   "metadata": {},
   "outputs": [
    {
     "data": {
      "text/html": [
       "<div>\n",
       "<style scoped>\n",
       "    .dataframe tbody tr th:only-of-type {\n",
       "        vertical-align: middle;\n",
       "    }\n",
       "\n",
       "    .dataframe tbody tr th {\n",
       "        vertical-align: top;\n",
       "    }\n",
       "\n",
       "    .dataframe thead th {\n",
       "        text-align: right;\n",
       "    }\n",
       "</style>\n",
       "<table border=\"1\" class=\"dataframe\">\n",
       "  <thead>\n",
       "    <tr style=\"text-align: right;\">\n",
       "      <th></th>\n",
       "      <th>remote_hostname</th>\n",
       "      <th>company</th>\n",
       "      <th>company_website</th>\n",
       "      <th>result</th>\n",
       "    </tr>\n",
       "  </thead>\n",
       "  <tbody>\n",
       "    <tr>\n",
       "      <th>0</th>\n",
       "      <td>googleusercontent.com</td>\n",
       "      <td>Google</td>\n",
       "      <td>https://www.google.com/</td>\n",
       "      <td>CDN</td>\n",
       "    </tr>\n",
       "    <tr>\n",
       "      <th>1</th>\n",
       "      <td>google.com</td>\n",
       "      <td>Google</td>\n",
       "      <td>https://www.google.com/</td>\n",
       "      <td>{'purpose': {'marketing': True, 'advertising':...</td>\n",
       "    </tr>\n",
       "    <tr>\n",
       "      <th>2</th>\n",
       "      <td>gstatic.com</td>\n",
       "      <td>NaN</td>\n",
       "      <td>NaN</td>\n",
       "      <td>NaN</td>\n",
       "    </tr>\n",
       "    <tr>\n",
       "      <th>3</th>\n",
       "      <td>nflxso.net</td>\n",
       "      <td>Netflix</td>\n",
       "      <td>https://www.netflix.com/</td>\n",
       "      <td>CDN</td>\n",
       "    </tr>\n",
       "    <tr>\n",
       "      <th>4</th>\n",
       "      <td>netflix.com</td>\n",
       "      <td>Streaming media provider</td>\n",
       "      <td>https://www.netflix.com/</td>\n",
       "      <td>CDN</td>\n",
       "    </tr>\n",
       "  </tbody>\n",
       "</table>\n",
       "</div>"
      ],
      "text/plain": [
       "         remote_hostname                   company           company_website  \\\n",
       "0  googleusercontent.com                    Google   https://www.google.com/   \n",
       "1             google.com                    Google   https://www.google.com/   \n",
       "2            gstatic.com                       NaN                       NaN   \n",
       "3             nflxso.net                   Netflix  https://www.netflix.com/   \n",
       "4            netflix.com  Streaming media provider  https://www.netflix.com/   \n",
       "\n",
       "                                              result  \n",
       "0                                                CDN  \n",
       "1  {'purpose': {'marketing': True, 'advertising':...  \n",
       "2                                                NaN  \n",
       "3                                                CDN  \n",
       "4                                                CDN  "
      ]
     },
     "execution_count": 8,
     "metadata": {},
     "output_type": "execute_result"
    }
   ],
   "source": [
    "domains.head()"
   ]
  },
  {
   "cell_type": "code",
   "execution_count": 9,
   "id": "cf1f7335-d18e-4205-b68e-a93ed2d617db",
   "metadata": {},
   "outputs": [],
   "source": [
    "cdns = domains[domains['result'] == 'CDN']"
   ]
  },
  {
   "cell_type": "code",
   "execution_count": 10,
   "id": "c69c05dd-178c-4b95-83e1-d715141d0764",
   "metadata": {},
   "outputs": [
    {
     "data": {
      "text/html": [
       "<div>\n",
       "<style scoped>\n",
       "    .dataframe tbody tr th:only-of-type {\n",
       "        vertical-align: middle;\n",
       "    }\n",
       "\n",
       "    .dataframe tbody tr th {\n",
       "        vertical-align: top;\n",
       "    }\n",
       "\n",
       "    .dataframe thead th {\n",
       "        text-align: right;\n",
       "    }\n",
       "</style>\n",
       "<table border=\"1\" class=\"dataframe\">\n",
       "  <thead>\n",
       "    <tr style=\"text-align: right;\">\n",
       "      <th></th>\n",
       "      <th>remote_hostname</th>\n",
       "      <th>company</th>\n",
       "      <th>company_website</th>\n",
       "      <th>result</th>\n",
       "    </tr>\n",
       "  </thead>\n",
       "  <tbody>\n",
       "    <tr>\n",
       "      <th>0</th>\n",
       "      <td>googleusercontent.com</td>\n",
       "      <td>Google</td>\n",
       "      <td>https://www.google.com/</td>\n",
       "      <td>CDN</td>\n",
       "    </tr>\n",
       "    <tr>\n",
       "      <th>3</th>\n",
       "      <td>nflxso.net</td>\n",
       "      <td>Netflix</td>\n",
       "      <td>https://www.netflix.com/</td>\n",
       "      <td>CDN</td>\n",
       "    </tr>\n",
       "    <tr>\n",
       "      <th>4</th>\n",
       "      <td>netflix.com</td>\n",
       "      <td>Streaming media provider</td>\n",
       "      <td>https://www.netflix.com/</td>\n",
       "      <td>CDN</td>\n",
       "    </tr>\n",
       "    <tr>\n",
       "      <th>5</th>\n",
       "      <td>scdn.co</td>\n",
       "      <td>StackPath</td>\n",
       "      <td>https://www.stackpath.com/</td>\n",
       "      <td>CDN</td>\n",
       "    </tr>\n",
       "    <tr>\n",
       "      <th>7</th>\n",
       "      <td>nflxext.com</td>\n",
       "      <td>Netflix</td>\n",
       "      <td>https://www.netflix.com/</td>\n",
       "      <td>CDN</td>\n",
       "    </tr>\n",
       "  </tbody>\n",
       "</table>\n",
       "</div>"
      ],
      "text/plain": [
       "         remote_hostname                   company  \\\n",
       "0  googleusercontent.com                    Google   \n",
       "3             nflxso.net                   Netflix   \n",
       "4            netflix.com  Streaming media provider   \n",
       "5                scdn.co                 StackPath   \n",
       "7            nflxext.com                   Netflix   \n",
       "\n",
       "              company_website result  \n",
       "0     https://www.google.com/    CDN  \n",
       "3    https://www.netflix.com/    CDN  \n",
       "4    https://www.netflix.com/    CDN  \n",
       "5  https://www.stackpath.com/    CDN  \n",
       "7    https://www.netflix.com/    CDN  "
      ]
     },
     "execution_count": 10,
     "metadata": {},
     "output_type": "execute_result"
    }
   ],
   "source": [
    "cdns.head()"
   ]
  },
  {
   "cell_type": "code",
   "execution_count": 13,
   "id": "1cf497e7-2679-47a5-96bb-018138598723",
   "metadata": {},
   "outputs": [],
   "source": [
    "samples=cdns.sample(n=20)"
   ]
  },
  {
   "cell_type": "code",
   "execution_count": 15,
   "id": "e307669a-7ff3-4bca-92d6-33cd9193204f",
   "metadata": {},
   "outputs": [],
   "source": [
    "samples.to_csv('./first-500/CDN_samples_20_haoran.csv')"
   ]
  },
  {
   "cell_type": "code",
   "execution_count": 4,
   "id": "2bc34eef-12e1-4d58-8969-7ec63ea2fbc6",
   "metadata": {},
   "outputs": [],
   "source": [
    "results = pd.read_csv(\"./results/answers_600.csv\")"
   ]
  },
  {
   "cell_type": "code",
   "execution_count": 5,
   "id": "810ebe1a-fb2c-4a47-b3b2-e119da70379d",
   "metadata": {},
   "outputs": [
    {
     "data": {
      "text/html": [
       "<div>\n",
       "<style scoped>\n",
       "    .dataframe tbody tr th:only-of-type {\n",
       "        vertical-align: middle;\n",
       "    }\n",
       "\n",
       "    .dataframe tbody tr th {\n",
       "        vertical-align: top;\n",
       "    }\n",
       "\n",
       "    .dataframe thead th {\n",
       "        text-align: right;\n",
       "    }\n",
       "</style>\n",
       "<table border=\"1\" class=\"dataframe\">\n",
       "  <thead>\n",
       "    <tr style=\"text-align: right;\">\n",
       "      <th></th>\n",
       "      <th>Unnamed: 0</th>\n",
       "      <th>remote_hostname</th>\n",
       "      <th>company</th>\n",
       "      <th>company_website</th>\n",
       "      <th>result</th>\n",
       "    </tr>\n",
       "  </thead>\n",
       "  <tbody>\n",
       "    <tr>\n",
       "      <th>0</th>\n",
       "      <td>600</td>\n",
       "      <td>mailchimp.com</td>\n",
       "      <td>Mailchimp</td>\n",
       "      <td>https://mailchimp.com/</td>\n",
       "      <td>marketing</td>\n",
       "    </tr>\n",
       "    <tr>\n",
       "      <th>1</th>\n",
       "      <td>601</td>\n",
       "      <td>oath.com</td>\n",
       "      <td>Oath</td>\n",
       "      <td>https://www.oath.com/</td>\n",
       "      <td>marketing</td>\n",
       "    </tr>\n",
       "    <tr>\n",
       "      <th>2</th>\n",
       "      <td>602</td>\n",
       "      <td>nexage.com</td>\n",
       "      <td>Nexage</td>\n",
       "      <td>https://www.nexage.com/</td>\n",
       "      <td>advertising</td>\n",
       "    </tr>\n",
       "    <tr>\n",
       "      <th>3</th>\n",
       "      <td>603</td>\n",
       "      <td>cloudfunctions.net</td>\n",
       "      <td>Google</td>\n",
       "      <td>https://www.google.com/</td>\n",
       "      <td>CDN</td>\n",
       "    </tr>\n",
       "    <tr>\n",
       "      <th>4</th>\n",
       "      <td>604</td>\n",
       "      <td>bluemailapp.com</td>\n",
       "      <td>Blue Mail</td>\n",
       "      <td>https://bluemailapp.com/</td>\n",
       "      <td>marketing</td>\n",
       "    </tr>\n",
       "  </tbody>\n",
       "</table>\n",
       "</div>"
      ],
      "text/plain": [
       "   Unnamed: 0     remote_hostname    company           company_website  \\\n",
       "0         600       mailchimp.com  Mailchimp    https://mailchimp.com/   \n",
       "1         601            oath.com       Oath     https://www.oath.com/   \n",
       "2         602          nexage.com     Nexage   https://www.nexage.com/   \n",
       "3         603  cloudfunctions.net     Google   https://www.google.com/   \n",
       "4         604     bluemailapp.com  Blue Mail  https://bluemailapp.com/   \n",
       "\n",
       "        result  \n",
       "0    marketing  \n",
       "1    marketing  \n",
       "2  advertising  \n",
       "3          CDN  \n",
       "4    marketing  "
      ]
     },
     "execution_count": 5,
     "metadata": {},
     "output_type": "execute_result"
    }
   ],
   "source": [
    "results.head()"
   ]
  }
 ],
 "metadata": {
  "kernelspec": {
   "display_name": "Python 3 (ipykernel)",
   "language": "python",
   "name": "python3"
  },
  "language_info": {
   "codemirror_mode": {
    "name": "ipython",
    "version": 3
   },
   "file_extension": ".py",
   "mimetype": "text/x-python",
   "name": "python",
   "nbconvert_exporter": "python",
   "pygments_lexer": "ipython3",
   "version": "3.9.13"
  }
 },
 "nbformat": 4,
 "nbformat_minor": 5
}
