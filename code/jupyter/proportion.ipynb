{
 "cells": [
  {
   "cell_type": "code",
   "execution_count": 13,
   "metadata": {},
   "outputs": [],
   "source": [
    "import numpy as np\n",
    "import pandas as pd\n",
    "import matplotlib.pyplot as plt"
   ]
  },
  {
   "cell_type": "code",
   "execution_count": 14,
   "metadata": {},
   "outputs": [],
   "source": [
    "prompt1_df = pd.read_csv('../../data/full/haoran/prompt1.csv')\n",
    "prompt2_df = pd.read_csv('../../data/full/haoran/prompt2.csv')\n",
    "prompt3_df = pd.read_csv('../../data/full/haoran/prompt3.csv')\n",
    "prompt4_df = pd.read_csv('../../data/full/mahati/prompt4.csv')\n",
    "prompt5_df = pd.read_csv('../../data/full/mahati/prompt5.csv')\n",
    "prompt6_df = pd.read_csv('../../data/full/haoran/prompt6.csv')\n",
    "dfs = [prompt1_df, prompt2_df, prompt3_df, prompt4_df, prompt5_df, prompt6_df]"
   ]
  },
  {
   "cell_type": "code",
   "execution_count": 29,
   "metadata": {},
   "outputs": [],
   "source": [
    "i = 1\n",
    "for df in dfs:\n",
    "    companies = df['company'].value_counts().to_frame()\n",
    "    results = df['result'].value_counts().to_frame()\n",
    "    companies.to_csv('../../data/full/prompt' + str(i) + '_company.csv')\n",
    "    results.to_csv('../../data/full/prompt' + str(i) + '_result.csv')\n",
    "    i += 1"
   ]
  },
  {
   "cell_type": "code",
   "execution_count": null,
   "metadata": {},
   "outputs": [],
   "source": []
  }
 ],
 "metadata": {
  "kernelspec": {
   "display_name": "Python 3",
   "language": "python",
   "name": "python3"
  },
  "language_info": {
   "codemirror_mode": {
    "name": "ipython",
    "version": 3
   },
   "file_extension": ".py",
   "mimetype": "text/x-python",
   "name": "python",
   "nbconvert_exporter": "python",
   "pygments_lexer": "ipython3",
   "version": "3.10.7"
  },
  "orig_nbformat": 4
 },
 "nbformat": 4,
 "nbformat_minor": 2
}
