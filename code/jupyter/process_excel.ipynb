{
 "cells": [
  {
   "cell_type": "code",
   "execution_count": 1,
   "metadata": {},
   "outputs": [],
   "source": [
    "import pandas as pd"
   ]
  },
  {
   "cell_type": "code",
   "execution_count": 7,
   "metadata": {},
   "outputs": [],
   "source": [
    "df = pd.read_excel(\"../../data/comparison/prompt2_prompt3_validations.xlsx\")"
   ]
  },
  {
   "cell_type": "code",
   "execution_count": 8,
   "metadata": {},
   "outputs": [],
   "source": [
    "res1 = df.iloc[::2]\n",
    "res2 = df.iloc[1::2]"
   ]
  },
  {
   "cell_type": "code",
   "execution_count": 9,
   "metadata": {},
   "outputs": [
    {
     "name": "stdout",
     "output_type": "stream",
     "text": [
      "company validation:\n",
      "right: 70\n",
      "wrong: 17\n",
      "not sure: 13\n",
      "website validation:\n",
      "right: 72\n",
      "wrong: 19\n",
      "not sure: 9\n",
      "result validation:\n",
      "right: 35\n",
      "wrong: 22\n",
      "not sure: 43\n"
     ]
    }
   ],
   "source": [
    "res1_right = res1['company_validation'].value_counts()['right']\n",
    "res1_wrong = res1['company_validation'].value_counts()['wrong']\n",
    "res1_notsure = res1['company_validation'].value_counts()['not sure']\n",
    "print('company validation:')\n",
    "print('right: ' + str(res1_right))\n",
    "print('wrong: ' + str(res1_wrong))\n",
    "print('not sure: ' + str(res1_notsure))\n",
    "\n",
    "res1_right = res1['website_validation'].value_counts()['right']\n",
    "res1_wrong = res1['website_validation'].value_counts()['wrong']\n",
    "res1_notsure = res1['website_validation'].value_counts()['not sure']\n",
    "print('website validation:')\n",
    "print('right: ' + str(res1_right))\n",
    "print('wrong: ' + str(res1_wrong))\n",
    "print('not sure: ' + str(res1_notsure))\n",
    "\n",
    "res1_right = res1['result_validation'].value_counts()['right']\n",
    "res1_wrong = res1['result_validation'].value_counts()['wrong']\n",
    "res1_notsure = res1['result_validation'].value_counts()['not sure']\n",
    "print('result validation:')\n",
    "print('right: ' + str(res1_right))\n",
    "print('wrong: ' + str(res1_wrong))\n",
    "print('not sure: ' + str(res1_notsure))\n",
    "\n"
   ]
  },
  {
   "cell_type": "code",
   "execution_count": 9,
   "metadata": {},
   "outputs": [
    {
     "name": "stdout",
     "output_type": "stream",
     "text": [
      "company validation:\n",
      "right: 81\n",
      "wrong: 16\n",
      "not sure: 4\n",
      "website validation:\n",
      "right: 82\n",
      "wrong: 13\n",
      "not sure: 4\n",
      "result validation:\n",
      "right: 54\n",
      "wrong: 21\n",
      "not sure: 26\n"
     ]
    }
   ],
   "source": [
    "res2_right = res2['company_validation'].value_counts()['right']\n",
    "res2_wrong = res2['company_validation'].value_counts()['wrong']\n",
    "res2_notsure = res2['company_validation'].value_counts()['not sure']\n",
    "print('company validation:')\n",
    "print('right: ' + str(res2_right))\n",
    "print('wrong: ' + str(res2_wrong))\n",
    "print('not sure: ' + str(res2_notsure))\n",
    "\n",
    "res2_right = res2['website_validation'].value_counts()['right']\n",
    "res2_wrong = res2['website_validation'].value_counts()['wrong']\n",
    "res2_notsure = res2['website_validation'].value_counts()['not sure']\n",
    "print('website validation:')\n",
    "print('right: ' + str(res2_right))\n",
    "print('wrong: ' + str(res2_wrong))\n",
    "print('not sure: ' + str(res2_notsure))\n",
    "\n",
    "res2_right = res2['result_validation'].value_counts()['right']\n",
    "res2_wrong = res2['result_validation'].value_counts()['wrong']\n",
    "res2_notsure = res2['result_validation'].value_counts()['not sure']\n",
    "print('result validation:')\n",
    "print('right: ' + str(res2_right))\n",
    "print('wrong: ' + str(res2_wrong))\n",
    "print('not sure: ' + str(res2_notsure))"
   ]
  }
 ],
 "metadata": {
  "kernelspec": {
   "display_name": "Python 3",
   "language": "python",
   "name": "python3"
  },
  "language_info": {
   "codemirror_mode": {
    "name": "ipython",
    "version": 3
   },
   "file_extension": ".py",
   "mimetype": "text/x-python",
   "name": "python",
   "nbconvert_exporter": "python",
   "pygments_lexer": "ipython3",
   "version": "3.10.7"
  },
  "orig_nbformat": 4
 },
 "nbformat": 4,
 "nbformat_minor": 2
}
