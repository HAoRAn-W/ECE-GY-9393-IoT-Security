{
 "cells": [
  {
   "cell_type": "code",
   "execution_count": 48,
   "metadata": {},
   "outputs": [],
   "source": [
    "import pandas as pd"
   ]
  },
  {
   "cell_type": "code",
   "execution_count": 49,
   "metadata": {},
   "outputs": [],
   "source": [
    "df = pd.read_excel(\"../../data/comparison/promt2_prompt4.xlsx\")"
   ]
  },
  {
   "cell_type": "code",
   "execution_count": 50,
   "metadata": {},
   "outputs": [],
   "source": [
    "res1 = df.iloc[::2]\n",
    "res2 = df.iloc[1::2]"
   ]
  },
  {
   "cell_type": "code",
   "execution_count": 51,
   "metadata": {},
   "outputs": [
    {
     "name": "stdout",
     "output_type": "stream",
     "text": [
      "right: 30\n",
      "wrong: 28\n",
      "not sure: 41\n"
     ]
    }
   ],
   "source": [
    "res1_right = res1['result_validation'].value_counts()['right']\n",
    "res1_wrong = res1['result_validation'].value_counts()['wrong']\n",
    "res1_notsure = res1['result_validation'].value_counts()['not sure']\n",
    "print('right: ' + str(res1_right))\n",
    "print('wrong: ' + str(res1_wrong))\n",
    "print('not sure: ' + str(res1_notsure))\n",
    "\n"
   ]
  },
  {
   "cell_type": "code",
   "execution_count": 52,
   "metadata": {},
   "outputs": [
    {
     "name": "stdout",
     "output_type": "stream",
     "text": [
      "right: 36\n",
      "wrong: 21\n",
      "not sure: 42\n"
     ]
    }
   ],
   "source": [
    "res2_right = res2['result_validation'].value_counts()['right']\n",
    "res2_wrong = res2['result_validation'].value_counts()['wrong']\n",
    "res2_notsure = res2['result_validation'].value_counts()['not sure']\n",
    "print('right: ' + str(res2_right))\n",
    "print('wrong: ' + str(res2_wrong))\n",
    "print('not sure: ' + str(res2_notsure))"
   ]
  }
 ],
 "metadata": {
  "kernelspec": {
   "display_name": "Python 3",
   "language": "python",
   "name": "python3"
  },
  "language_info": {
   "codemirror_mode": {
    "name": "ipython",
    "version": 3
   },
   "file_extension": ".py",
   "mimetype": "text/x-python",
   "name": "python",
   "nbconvert_exporter": "python",
   "pygments_lexer": "ipython3",
   "version": "3.10.7"
  },
  "orig_nbformat": 4
 },
 "nbformat": 4,
 "nbformat_minor": 2
}
