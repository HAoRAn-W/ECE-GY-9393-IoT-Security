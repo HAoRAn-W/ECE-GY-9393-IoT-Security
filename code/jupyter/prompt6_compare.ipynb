{
 "cells": [
  {
   "cell_type": "code",
   "execution_count": 1,
   "metadata": {},
   "outputs": [],
   "source": [
    "import pandas as pd"
   ]
  },
  {
   "cell_type": "code",
   "execution_count": 2,
   "metadata": {},
   "outputs": [],
   "source": [
    "df = pd.read_csv(\"../../data/comparison/promt1_prompt1.csv\")\n",
    "res1 = df.iloc[::2]\n",
    "\n",
    "prompt1_df = pd.read_csv(\"../../data/full/haoran/prompt1.csv\")\n",
    "prompt6_df = pd.read_csv(\"../../data/full/haoran/prompt6.csv\")"
   ]
  },
  {
   "cell_type": "code",
   "execution_count": 3,
   "metadata": {},
   "outputs": [],
   "source": [
    "original = res1['Unnamed: 0'].reset_index(drop=True)\n",
    "\n",
    "samples_prompt1 = prompt1_df.loc[original]\n",
    "samples_prompt6 = prompt6_df.loc[original]"
   ]
  },
  {
   "cell_type": "code",
   "execution_count": 4,
   "metadata": {},
   "outputs": [],
   "source": [
    "merged_df = pd.DataFrame()\n",
    "for i in range(len(res1)):\n",
    "    merged_df = pd.concat([merged_df, samples_prompt1.iloc[i], samples_prompt6.iloc[i]], axis = 1, ignore_index=True)\n",
    "merged_df = merged_df.transpose()"
   ]
  },
  {
   "cell_type": "code",
   "execution_count": 5,
   "metadata": {},
   "outputs": [],
   "source": [
    "merged_df.to_csv(\"../../data/comparison/promt1_prompt6_same.csv\")\n",
    "merged_df.to_excel(\"../../data/comparison/promt1_prompt6_same.xlsx\")"
   ]
  }
 ],
 "metadata": {
  "kernelspec": {
   "display_name": "Python 3",
   "language": "python",
   "name": "python3"
  },
  "language_info": {
   "codemirror_mode": {
    "name": "ipython",
    "version": 3
   },
   "file_extension": ".py",
   "mimetype": "text/x-python",
   "name": "python",
   "nbconvert_exporter": "python",
   "pygments_lexer": "ipython3",
   "version": "3.10.7"
  },
  "orig_nbformat": 4
 },
 "nbformat": 4,
 "nbformat_minor": 2
}
