{
 "cells": [
  {
   "attachments": {},
   "cell_type": "markdown",
   "metadata": {},
   "source": [
    "# Merge CSV\n",
    "This script is used to merge separate csv files"
   ]
  },
  {
   "cell_type": "code",
   "execution_count": 33,
   "metadata": {},
   "outputs": [],
   "source": [
    "import os\n",
    "import pandas as pd"
   ]
  },
  {
   "cell_type": "code",
   "execution_count": 34,
   "metadata": {},
   "outputs": [],
   "source": [
    "path = '../../data/full/haoran/prompt3/'\n",
    "files = os.listdir(path)"
   ]
  },
  {
   "cell_type": "code",
   "execution_count": 35,
   "metadata": {},
   "outputs": [
    {
     "data": {
      "text/html": [
       "<div>\n",
       "<style scoped>\n",
       "    .dataframe tbody tr th:only-of-type {\n",
       "        vertical-align: middle;\n",
       "    }\n",
       "\n",
       "    .dataframe tbody tr th {\n",
       "        vertical-align: top;\n",
       "    }\n",
       "\n",
       "    .dataframe thead th {\n",
       "        text-align: right;\n",
       "    }\n",
       "</style>\n",
       "<table border=\"1\" class=\"dataframe\">\n",
       "  <thead>\n",
       "    <tr style=\"text-align: right;\">\n",
       "      <th></th>\n",
       "      <th>Unnamed: 0</th>\n",
       "      <th>remote_hostname</th>\n",
       "      <th>company</th>\n",
       "      <th>company_website</th>\n",
       "      <th>result</th>\n",
       "      <th>prompt3</th>\n",
       "      <th>temp=1. before: 0.85</th>\n",
       "    </tr>\n",
       "  </thead>\n",
       "  <tbody>\n",
       "    <tr>\n",
       "      <th>3395</th>\n",
       "      <td>995.0</td>\n",
       "      <td>itv.com</td>\n",
       "      <td>ITV</td>\n",
       "      <td>www.itv.com</td>\n",
       "      <td>first-party host</td>\n",
       "      <td>NaN</td>\n",
       "      <td>NaN</td>\n",
       "    </tr>\n",
       "    <tr>\n",
       "      <th>3396</th>\n",
       "      <td>996.0</td>\n",
       "      <td>lyft.com</td>\n",
       "      <td>Lyft</td>\n",
       "      <td>www.lyft.com</td>\n",
       "      <td>first-party host</td>\n",
       "      <td>NaN</td>\n",
       "      <td>NaN</td>\n",
       "    </tr>\n",
       "    <tr>\n",
       "      <th>3397</th>\n",
       "      <td>997.0</td>\n",
       "      <td>llnw.net</td>\n",
       "      <td>Limelight Networks</td>\n",
       "      <td>https://www.limelight.com/</td>\n",
       "      <td>CDN</td>\n",
       "      <td>NaN</td>\n",
       "      <td>NaN</td>\n",
       "    </tr>\n",
       "    <tr>\n",
       "      <th>3398</th>\n",
       "      <td>998.0</td>\n",
       "      <td>llnwi.net</td>\n",
       "      <td>ChinaNetCenter</td>\n",
       "      <td>https://www.chinanetcenter.com/</td>\n",
       "      <td>CDN</td>\n",
       "      <td>NaN</td>\n",
       "      <td>NaN</td>\n",
       "    </tr>\n",
       "    <tr>\n",
       "      <th>3399</th>\n",
       "      <td>999.0</td>\n",
       "      <td>nextdoor.com</td>\n",
       "      <td>Nextdoor</td>\n",
       "      <td>nextdoor.com</td>\n",
       "      <td>first-party host</td>\n",
       "      <td>NaN</td>\n",
       "      <td>NaN</td>\n",
       "    </tr>\n",
       "  </tbody>\n",
       "</table>\n",
       "</div>"
      ],
      "text/plain": [
       "      Unnamed: 0 remote_hostname             company  \\\n",
       "3395       995.0         itv.com                 ITV   \n",
       "3396       996.0        lyft.com                Lyft   \n",
       "3397       997.0        llnw.net  Limelight Networks   \n",
       "3398       998.0       llnwi.net      ChinaNetCenter   \n",
       "3399       999.0    nextdoor.com            Nextdoor   \n",
       "\n",
       "                      company_website            result prompt3  \\\n",
       "3395                      www.itv.com  first-party host     NaN   \n",
       "3396                     www.lyft.com  first-party host     NaN   \n",
       "3397       https://www.limelight.com/               CDN     NaN   \n",
       "3398  https://www.chinanetcenter.com/               CDN     NaN   \n",
       "3399                     nextdoor.com  first-party host     NaN   \n",
       "\n",
       "      temp=1. before: 0.85  \n",
       "3395                   NaN  \n",
       "3396                   NaN  \n",
       "3397                   NaN  \n",
       "3398                   NaN  \n",
       "3399                   NaN  "
      ]
     },
     "execution_count": 35,
     "metadata": {},
     "output_type": "execute_result"
    }
   ],
   "source": [
    "df = pd.concat((pd.read_csv(path + f) for f in files), ignore_index=True)\n",
    "df.tail()"
   ]
  },
  {
   "cell_type": "code",
   "execution_count": 36,
   "metadata": {},
   "outputs": [],
   "source": [
    "df.to_csv('../../data/full/haoran/prompt3.csv', index=False)"
   ]
  }
 ],
 "metadata": {
  "kernelspec": {
   "display_name": "Python 3",
   "language": "python",
   "name": "python3"
  },
  "language_info": {
   "codemirror_mode": {
    "name": "ipython",
    "version": 3
   },
   "file_extension": ".py",
   "mimetype": "text/x-python",
   "name": "python",
   "nbconvert_exporter": "python",
   "pygments_lexer": "ipython3",
   "version": "3.10.7"
  },
  "orig_nbformat": 4
 },
 "nbformat": 4,
 "nbformat_minor": 2
}
