{
 "cells": [
  {
   "attachments": {},
   "cell_type": "markdown",
   "metadata": {},
   "source": [
    "# Merge CSV\n",
    "This script is used to merge separate csv files\n",
    "\n",
    "be sure to change the path and csv file name"
   ]
  },
  {
   "cell_type": "code",
   "execution_count": 1,
   "metadata": {},
   "outputs": [],
   "source": [
    "import os\n",
    "import pandas as pd"
   ]
  },
  {
   "cell_type": "code",
   "execution_count": 8,
   "metadata": {},
   "outputs": [
    {
     "name": "stdout",
     "output_type": "stream",
     "text": [
      "['answers_0.csv', 'answers_20.csv', 'answers_40.csv', 'answers_60.csv', 'answers_80.csv', 'answers_100.csv', 'answers_120.csv', 'answers_140.csv', 'answers_160.csv', 'answers_180.csv', 'answers_200.csv', 'answers_220.csv', 'answers_300.csv', 'answers_400.csv', 'answers_500.csv', 'answers_600.csv', 'answers_700.csv', 'answers_800.csv', 'answers_900.csv', 'answers_1000.csv', 'answers_1100.csv', 'answers_1200.csv', 'answers_1300.csv', 'answers_1400.csv', 'answers_1500.csv', 'answers_1600.csv', 'answers_1700.csv', 'answers_1800.csv', 'answers_1900.csv', 'answers_2000.csv', 'answers_2100.csv', 'answers_2200.csv', 'answers_2300.csv', 'answers_2400.csv', 'answers_2500.csv', 'answers_2600.csv', 'answers_2700.csv', 'answers_2800.csv', 'answers_2900.csv', 'answers_3000.csv', 'answers_3100.csv', 'answers_3200.csv', 'answers_3300.csv', 'answers_3400.csv', 'answers_3500.csv']\n"
     ]
    }
   ],
   "source": [
    "path = '../../data/full/mahati/prompt3/'\n",
    "files = list(filter(lambda x: x.endswith('.csv'), os.listdir(path)))\n",
    "files.sort(key=lambda x: int(''.join(filter(str.isdigit, x))))\n",
    "print(files)"
   ]
  },
  {
   "cell_type": "code",
   "execution_count": 10,
   "metadata": {},
   "outputs": [],
   "source": [
    "df = pd.concat((pd.read_csv(path + f) for f in files if f.endswith('.csv')))\n",
    "df.drop_duplicates(subset='Unnamed: 0', inplace=True)"
   ]
  },
  {
   "cell_type": "code",
   "execution_count": 11,
   "metadata": {},
   "outputs": [],
   "source": [
    "df.to_csv('../../data/full/mahati/prompt3.csv', index=False)"
   ]
  }
 ],
 "metadata": {
  "kernelspec": {
   "display_name": "Python 3",
   "language": "python",
   "name": "python3"
  },
  "language_info": {
   "codemirror_mode": {
    "name": "ipython",
    "version": 3
   },
   "file_extension": ".py",
   "mimetype": "text/x-python",
   "name": "python",
   "nbconvert_exporter": "python",
   "pygments_lexer": "ipython3",
   "version": "3.10.7"
  },
  "orig_nbformat": 4
 },
 "nbformat": 4,
 "nbformat_minor": 2
}
