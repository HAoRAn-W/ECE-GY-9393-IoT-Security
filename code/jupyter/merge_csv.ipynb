{
 "cells": [
  {
   "attachments": {},
   "cell_type": "markdown",
   "metadata": {},
   "source": [
    "# Merge CSV\n",
    "This script is used to merge separate csv files\n",
    "\n",
    "be sure to change the path and csv file name"
   ]
  },
  {
   "cell_type": "code",
   "execution_count": 42,
   "metadata": {},
   "outputs": [],
   "source": [
    "import os\n",
    "import pandas as pd"
   ]
  },
  {
   "cell_type": "code",
   "execution_count": 43,
   "metadata": {},
   "outputs": [
    {
     "name": "stdout",
     "output_type": "stream",
     "text": [
      "['answers_0.csv', 'answers_200.csv', 'answers_400.csv', 'answers_600.csv', 'answers_800.csv', 'answers_1000.csv', 'answers_1200.csv', 'answers_1400.csv', 'answers_1600.csv', 'answers_1800.csv', 'answers_2000.csv', 'answers_2200.csv', 'answers_2400.csv', 'answers_2600.csv', 'answers_2800.csv', 'answers_3000.csv', 'answers_3200.csv']\n"
     ]
    }
   ],
   "source": [
    "path = '../../data/full/haoran/prompt3/'\n",
    "files = list(filter(lambda x: x.endswith('.csv'), os.listdir(path)))\n",
    "files.sort(key=lambda x: int(''.join(filter(str.isdigit, x))))\n",
    "print(files)"
   ]
  },
  {
   "cell_type": "code",
   "execution_count": 44,
   "metadata": {},
   "outputs": [
    {
     "data": {
      "text/html": [
       "<div>\n",
       "<style scoped>\n",
       "    .dataframe tbody tr th:only-of-type {\n",
       "        vertical-align: middle;\n",
       "    }\n",
       "\n",
       "    .dataframe tbody tr th {\n",
       "        vertical-align: top;\n",
       "    }\n",
       "\n",
       "    .dataframe thead th {\n",
       "        text-align: right;\n",
       "    }\n",
       "</style>\n",
       "<table border=\"1\" class=\"dataframe\">\n",
       "  <thead>\n",
       "    <tr style=\"text-align: right;\">\n",
       "      <th></th>\n",
       "      <th>Unnamed: 0</th>\n",
       "      <th>remote_hostname</th>\n",
       "      <th>company</th>\n",
       "      <th>company_website</th>\n",
       "      <th>result</th>\n",
       "    </tr>\n",
       "  </thead>\n",
       "  <tbody>\n",
       "    <tr>\n",
       "      <th>195</th>\n",
       "      <td>3395</td>\n",
       "      <td>yieldlab.net</td>\n",
       "      <td>Yieldlab AG</td>\n",
       "      <td>https://www.yieldlab.com/</td>\n",
       "      <td>advertising</td>\n",
       "    </tr>\n",
       "    <tr>\n",
       "      <th>196</th>\n",
       "      <td>3396</td>\n",
       "      <td>ligadx.com</td>\n",
       "      <td>Ligatus</td>\n",
       "      <td>https://www.ligatus.com/</td>\n",
       "      <td>advertising</td>\n",
       "    </tr>\n",
       "    <tr>\n",
       "      <th>197</th>\n",
       "      <td>3397</td>\n",
       "      <td>ligatus.com</td>\n",
       "      <td>Ligatus</td>\n",
       "      <td>https://www.ligatus.com/</td>\n",
       "      <td>advertising</td>\n",
       "    </tr>\n",
       "    <tr>\n",
       "      <th>198</th>\n",
       "      <td>3398</td>\n",
       "      <td>trib.al</td>\n",
       "      <td>Tribune Media</td>\n",
       "      <td>https://www.tribunemedia.com/</td>\n",
       "      <td>URL shortener service</td>\n",
       "    </tr>\n",
       "    <tr>\n",
       "      <th>199</th>\n",
       "      <td>3399</td>\n",
       "      <td>onservo.com</td>\n",
       "      <td>Onservo, Inc.</td>\n",
       "      <td>https://www.onservo.com/</td>\n",
       "      <td>static server</td>\n",
       "    </tr>\n",
       "  </tbody>\n",
       "</table>\n",
       "</div>"
      ],
      "text/plain": [
       "     Unnamed: 0 remote_hostname        company                company_website  \\\n",
       "195        3395    yieldlab.net    Yieldlab AG      https://www.yieldlab.com/   \n",
       "196        3396      ligadx.com        Ligatus       https://www.ligatus.com/   \n",
       "197        3397     ligatus.com        Ligatus       https://www.ligatus.com/   \n",
       "198        3398         trib.al  Tribune Media  https://www.tribunemedia.com/   \n",
       "199        3399     onservo.com  Onservo, Inc.       https://www.onservo.com/   \n",
       "\n",
       "                    result  \n",
       "195            advertising  \n",
       "196            advertising  \n",
       "197            advertising  \n",
       "198  URL shortener service  \n",
       "199          static server  "
      ]
     },
     "execution_count": 44,
     "metadata": {},
     "output_type": "execute_result"
    }
   ],
   "source": [
    "df = pd.concat((pd.read_csv(path + f) for f in files if f.endswith('.csv')))\n",
    "df.tail()"
   ]
  },
  {
   "cell_type": "code",
   "execution_count": 45,
   "metadata": {},
   "outputs": [],
   "source": [
    "df.to_csv('../../data/full/haoran/prompt3.csv', index=False)"
   ]
  }
 ],
 "metadata": {
  "kernelspec": {
   "display_name": "Python 3",
   "language": "python",
   "name": "python3"
  },
  "language_info": {
   "codemirror_mode": {
    "name": "ipython",
    "version": 3
   },
   "file_extension": ".py",
   "mimetype": "text/x-python",
   "name": "python",
   "nbconvert_exporter": "python",
   "pygments_lexer": "ipython3",
   "version": "3.10.7"
  },
  "orig_nbformat": 4
 },
 "nbformat": 4,
 "nbformat_minor": 2
}
