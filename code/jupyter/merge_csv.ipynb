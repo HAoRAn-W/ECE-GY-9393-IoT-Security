{
 "cells": [
  {
   "attachments": {},
   "cell_type": "markdown",
   "metadata": {},
   "source": [
    "# Merge CSV\n",
    "This script is used to merge separate csv files\n",
    "\n",
    "be sure to change the path and csv file name"
   ]
  },
  {
   "cell_type": "code",
   "execution_count": 5,
   "metadata": {},
   "outputs": [],
   "source": [
    "import os\n",
    "import pandas as pd"
   ]
  },
  {
   "cell_type": "code",
   "execution_count": 6,
   "metadata": {},
   "outputs": [
    {
     "name": "stdout",
     "output_type": "stream",
     "text": [
      "['answers_0.csv', 'answers_200.csv', 'answers_400.csv', 'answers_600.csv', 'answers_800.csv', 'answers_1000.csv', 'answers_1200.csv', 'answers_1400.csv', 'answers_1600.csv', 'answers_1800.csv', 'answers_2000.csv', 'answers_2200.csv', 'answers_2400.csv', 'answers_2600.csv', 'answers_2800.csv', 'answers_3000.csv', 'answers_3200.csv', 'answers_3400.csv']\n"
     ]
    }
   ],
   "source": [
    "path = '../../data/full/haoran/prompt3/'\n",
    "files = list(filter(lambda x: x.endswith('.csv'), os.listdir(path)))\n",
    "files.sort(key=lambda x: int(''.join(filter(str.isdigit, x))))\n",
    "print(files)"
   ]
  },
  {
   "cell_type": "code",
   "execution_count": 7,
   "metadata": {},
   "outputs": [],
   "source": [
    "df = pd.concat((pd.read_csv(path + f) for f in files if f.endswith('.csv')))\n",
    "df.drop_duplicates(subset='Unnamed: 0', inplace=True)"
   ]
  },
  {
   "cell_type": "code",
   "execution_count": 8,
   "metadata": {},
   "outputs": [],
   "source": [
    "df.to_csv('../../data/full/haoran/prompt3.csv', index=False)"
   ]
  }
 ],
 "metadata": {
  "kernelspec": {
   "display_name": "Python 3",
   "language": "python",
   "name": "python3"
  },
  "language_info": {
   "codemirror_mode": {
    "name": "ipython",
    "version": 3
   },
   "file_extension": ".py",
   "mimetype": "text/x-python",
   "name": "python",
   "nbconvert_exporter": "python",
   "pygments_lexer": "ipython3",
   "version": "3.10.7"
  },
  "orig_nbformat": 4
 },
 "nbformat": 4,
 "nbformat_minor": 2
}
