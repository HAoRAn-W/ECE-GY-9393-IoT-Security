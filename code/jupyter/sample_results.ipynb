{
 "cells": [
  {
   "cell_type": "code",
   "execution_count": 1,
   "id": "d2f273e1-cc0b-44ce-a534-c3af2d258389",
   "metadata": {},
   "outputs": [],
   "source": [
    "import pandas as pd"
   ]
  },
  {
   "cell_type": "code",
   "execution_count": 4,
   "id": "ffd415cc-4e08-4830-8dfb-13ed239d9531",
   "metadata": {},
   "outputs": [],
   "source": [
    "# change the file name here\n",
    "results = pd.read_csv(\"../../data/full/haoran/prompt1.csv\")"
   ]
  },
  {
   "cell_type": "code",
   "execution_count": 5,
   "id": "8c12cc3e-cdd3-476c-99a0-d8ae98791f6b",
   "metadata": {},
   "outputs": [
    {
     "data": {
      "text/html": [
       "<div>\n",
       "<style scoped>\n",
       "    .dataframe tbody tr th:only-of-type {\n",
       "        vertical-align: middle;\n",
       "    }\n",
       "\n",
       "    .dataframe tbody tr th {\n",
       "        vertical-align: top;\n",
       "    }\n",
       "\n",
       "    .dataframe thead th {\n",
       "        text-align: right;\n",
       "    }\n",
       "</style>\n",
       "<table border=\"1\" class=\"dataframe\">\n",
       "  <thead>\n",
       "    <tr style=\"text-align: right;\">\n",
       "      <th></th>\n",
       "      <th>Unnamed: 0</th>\n",
       "      <th>remote_hostname</th>\n",
       "      <th>company</th>\n",
       "      <th>company_website</th>\n",
       "      <th>result</th>\n",
       "    </tr>\n",
       "  </thead>\n",
       "  <tbody>\n",
       "    <tr>\n",
       "      <th>0</th>\n",
       "      <td>0</td>\n",
       "      <td>googleusercontent.com</td>\n",
       "      <td>NaN</td>\n",
       "      <td>NaN</td>\n",
       "      <td>NaN</td>\n",
       "    </tr>\n",
       "    <tr>\n",
       "      <th>1</th>\n",
       "      <td>1</td>\n",
       "      <td>google.com</td>\n",
       "      <td>Google</td>\n",
       "      <td>https://www.google.com/</td>\n",
       "      <td>{'purpose': ['DNS', 'CDN', 'Analytics']}</td>\n",
       "    </tr>\n",
       "    <tr>\n",
       "      <th>2</th>\n",
       "      <td>2</td>\n",
       "      <td>gstatic.com</td>\n",
       "      <td>Google</td>\n",
       "      <td>https://www.google.com/</td>\n",
       "      <td>CDN</td>\n",
       "    </tr>\n",
       "    <tr>\n",
       "      <th>3</th>\n",
       "      <td>3</td>\n",
       "      <td>nflxso.net</td>\n",
       "      <td>Netflix</td>\n",
       "      <td>https://www.netflix.com/</td>\n",
       "      <td>CDN</td>\n",
       "    </tr>\n",
       "    <tr>\n",
       "      <th>4</th>\n",
       "      <td>4</td>\n",
       "      <td>netflix.com</td>\n",
       "      <td>Netflix</td>\n",
       "      <td>https://www.netflix.com/</td>\n",
       "      <td>streaming service provider - first-party host</td>\n",
       "    </tr>\n",
       "  </tbody>\n",
       "</table>\n",
       "</div>"
      ],
      "text/plain": [
       "   Unnamed: 0        remote_hostname  company           company_website  \\\n",
       "0           0  googleusercontent.com      NaN                       NaN   \n",
       "1           1             google.com   Google   https://www.google.com/   \n",
       "2           2            gstatic.com   Google   https://www.google.com/   \n",
       "3           3             nflxso.net  Netflix  https://www.netflix.com/   \n",
       "4           4            netflix.com  Netflix  https://www.netflix.com/   \n",
       "\n",
       "                                          result  \n",
       "0                                            NaN  \n",
       "1       {'purpose': ['DNS', 'CDN', 'Analytics']}  \n",
       "2                                            CDN  \n",
       "3                                            CDN  \n",
       "4  streaming service provider - first-party host  "
      ]
     },
     "execution_count": 5,
     "metadata": {},
     "output_type": "execute_result"
    }
   ],
   "source": [
    "results.head()"
   ]
  },
  {
   "cell_type": "code",
   "execution_count": 6,
   "id": "1cf497e7-2679-47a5-96bb-018138598723",
   "metadata": {},
   "outputs": [],
   "source": [
    "samples=results.sample(n=100)"
   ]
  },
  {
   "cell_type": "code",
   "execution_count": 7,
   "id": "e307669a-7ff3-4bca-92d6-33cd9193204f",
   "metadata": {},
   "outputs": [],
   "source": [
    "samples.to_csv('../../data/full/haoran/prompt1_100sample.csv')"
   ]
  }
 ],
 "metadata": {
  "kernelspec": {
   "display_name": "Python 3 (ipykernel)",
   "language": "python",
   "name": "python3"
  },
  "language_info": {
   "codemirror_mode": {
    "name": "ipython",
    "version": 3
   },
   "file_extension": ".py",
   "mimetype": "text/x-python",
   "name": "python",
   "nbconvert_exporter": "python",
   "pygments_lexer": "ipython3",
   "version": "3.10.7"
  }
 },
 "nbformat": 4,
 "nbformat_minor": 5
}
