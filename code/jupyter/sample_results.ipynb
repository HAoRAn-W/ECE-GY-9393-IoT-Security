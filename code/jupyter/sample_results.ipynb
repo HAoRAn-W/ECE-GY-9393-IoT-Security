{
 "cells": [
  {
   "cell_type": "code",
   "execution_count": 1,
   "id": "d2f273e1-cc0b-44ce-a534-c3af2d258389",
   "metadata": {},
   "outputs": [],
   "source": [
    "import pandas as pd\n",
    "import random"
   ]
  },
  {
   "cell_type": "code",
   "execution_count": 2,
   "id": "ffd415cc-4e08-4830-8dfb-13ed239d9531",
   "metadata": {},
   "outputs": [
    {
     "name": "stdout",
     "output_type": "stream",
     "text": [
      "[868, 2252, 568, 3413, 1828, 1825, 127, 3230, 1037, 2686, 3525, 3390, 1624, 1182, 1576, 3380, 1127, 3550, 2656, 1619, 30, 634, 2279, 811, 3412, 410, 137, 715, 3559, 3217, 300, 178, 2885, 2975, 585, 2529, 2681, 1036, 1937, 2006, 855, 1307, 1638, 1090, 2721, 3558, 2788, 2439, 838, 3023, 1307, 2735, 1695, 1758, 1037, 1808, 2867, 158, 720, 1302, 2986, 3247, 1757, 996, 3524, 2616, 1441, 2179, 1020, 1936, 409, 3090, 549, 3558, 2942, 236, 1903, 2267, 1287, 3251, 2394, 1412, 862, 847, 2002, 2851, 3202, 3466, 2605, 2399, 1313, 1739, 3002, 564, 2284, 3350, 1206, 890, 3041, 2039]\n"
     ]
    }
   ],
   "source": [
    "sample_len = 100\n",
    "random_indexes = [random.randrange(0, 3561) for i in range(sample_len)]\n",
    "print(random_indexes)"
   ]
  },
  {
   "cell_type": "code",
   "execution_count": 4,
   "id": "e307669a-7ff3-4bca-92d6-33cd9193204f",
   "metadata": {},
   "outputs": [],
   "source": [
    "df1 = pd.read_csv(\"../../data/full/haoran/prompt5.csv\")\n",
    "df2 = pd.read_csv(\"../../data/full/haoran/prompt6.csv\")"
   ]
  },
  {
   "cell_type": "code",
   "execution_count": 5,
   "id": "1479cdfd",
   "metadata": {},
   "outputs": [],
   "source": [
    "sample_df1 = df1.loc[random_indexes]\n",
    "sample_df2 = df2.loc[random_indexes]"
   ]
  },
  {
   "cell_type": "code",
   "execution_count": 8,
   "id": "23e2b737",
   "metadata": {},
   "outputs": [],
   "source": [
    "merged_df = pd.DataFrame()\n",
    "for i in range(sample_len):\n",
    "    merged_df = pd.concat([merged_df, sample_df1.iloc[i], sample_df2.iloc[i]], axis = 1, ignore_index=True)\n",
    "merged_df = merged_df.transpose()"
   ]
  },
  {
   "cell_type": "code",
   "execution_count": 6,
   "id": "39954893",
   "metadata": {},
   "outputs": [],
   "source": [
    "sample_df1.to_csv(\"../../data/comparison/prompt5_validation.csv\")"
   ]
  }
 ],
 "metadata": {
  "kernelspec": {
   "display_name": "Python 3 (ipykernel)",
   "language": "python",
   "name": "python3"
  },
  "language_info": {
   "codemirror_mode": {
    "name": "ipython",
    "version": 3
   },
   "file_extension": ".py",
   "mimetype": "text/x-python",
   "name": "python",
   "nbconvert_exporter": "python",
   "pygments_lexer": "ipython3",
   "version": "3.10.7"
  }
 },
 "nbformat": 4,
 "nbformat_minor": 5
}
