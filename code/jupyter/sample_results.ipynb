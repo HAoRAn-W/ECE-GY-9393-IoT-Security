{
 "cells": [
  {
   "cell_type": "code",
   "execution_count": 4,
   "id": "d2f273e1-cc0b-44ce-a534-c3af2d258389",
   "metadata": {},
   "outputs": [],
   "source": [
    "import pandas as pd\n",
    "import random"
   ]
  },
  {
   "cell_type": "code",
   "execution_count": 5,
   "id": "ffd415cc-4e08-4830-8dfb-13ed239d9531",
   "metadata": {},
   "outputs": [
    {
     "name": "stdout",
     "output_type": "stream",
     "text": [
      "[3325, 1575, 1631, 1600, 2853, 433, 2747, 846, 2041, 723, 2074, 2408, 3279, 945, 3123, 3140, 1832, 73, 3287, 1500, 2960, 1207, 3412, 571, 3226, 135, 1871, 2133, 2132, 428, 13, 1508, 172, 601, 2879, 1496, 2756, 1454, 824, 1461, 2599, 2450, 2143, 697, 920, 2069, 1633, 3401, 2804, 2825, 2059, 1346, 1561, 3535, 45, 3170, 202, 3119, 1641, 2870, 3003, 3537, 359, 3425, 1786, 2694, 3086, 2139, 1633, 475, 2652, 1831, 1539, 2871, 2945, 1257, 1906, 1368, 1722, 2597, 1599, 269, 1660, 1262, 2548, 707, 2390, 1317, 2151, 1699, 605, 3466, 287, 1650, 3382, 267, 2373, 2736, 2182, 3497]\n"
     ]
    }
   ],
   "source": [
    "sample_len = 100\n",
    "random_indexes = [random.randrange(0, 3561) for i in range(sample_len)]\n",
    "print(random_indexes)"
   ]
  },
  {
   "cell_type": "code",
   "execution_count": 6,
   "id": "e307669a-7ff3-4bca-92d6-33cd9193204f",
   "metadata": {},
   "outputs": [],
   "source": [
    "df1 = pd.read_csv(\"../../data/full/haoran/prompt1.csv\")\n",
    "df2 = pd.read_csv(\"../../data/full/haoran/prompt6.csv\")"
   ]
  },
  {
   "cell_type": "code",
   "execution_count": 7,
   "id": "1479cdfd",
   "metadata": {},
   "outputs": [],
   "source": [
    "sample_df1 = df1.loc[random_indexes]\n",
    "sample_df2 = df2.loc[random_indexes]"
   ]
  },
  {
   "cell_type": "code",
   "execution_count": 8,
   "id": "23e2b737",
   "metadata": {},
   "outputs": [],
   "source": [
    "merged_df = pd.DataFrame()\n",
    "for i in range(sample_len):\n",
    "    merged_df = pd.concat([merged_df, sample_df1.iloc[i], sample_df2.iloc[i]], axis = 1, ignore_index=True)\n",
    "merged_df = merged_df.transpose()"
   ]
  },
  {
   "cell_type": "code",
   "execution_count": 9,
   "id": "39954893",
   "metadata": {},
   "outputs": [],
   "source": [
    "merged_df.to_csv(\"../../data/comparison/promt1_prompt6.csv\")"
   ]
  }
 ],
 "metadata": {
  "kernelspec": {
   "display_name": "Python 3 (ipykernel)",
   "language": "python",
   "name": "python3"
  },
  "language_info": {
   "codemirror_mode": {
    "name": "ipython",
    "version": 3
   },
   "file_extension": ".py",
   "mimetype": "text/x-python",
   "name": "python",
   "nbconvert_exporter": "python",
   "pygments_lexer": "ipython3",
   "version": "3.10.7"
  }
 },
 "nbformat": 4,
 "nbformat_minor": 5
}
