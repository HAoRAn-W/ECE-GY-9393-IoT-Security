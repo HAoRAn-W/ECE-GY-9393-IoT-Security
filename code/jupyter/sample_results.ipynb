{
 "cells": [
  {
   "cell_type": "code",
   "execution_count": 51,
   "id": "d2f273e1-cc0b-44ce-a534-c3af2d258389",
   "metadata": {},
   "outputs": [],
   "source": [
    "import pandas as pd\n",
    "import random"
   ]
  },
  {
   "cell_type": "code",
   "execution_count": 52,
   "id": "ffd415cc-4e08-4830-8dfb-13ed239d9531",
   "metadata": {},
   "outputs": [
    {
     "name": "stdout",
     "output_type": "stream",
     "text": [
      "[2268, 944, 185, 1383, 2879, 1282, 3176, 1054, 1415, 296, 2595, 2441, 1130, 964, 2221, 380, 2352, 2295, 1356, 2322, 3017, 203, 1524, 1902, 1426, 931, 2379, 2358, 1082, 1840, 2, 1696, 1518, 2131, 1254, 1865, 1656, 1269, 1702, 1655, 2077, 2758, 284, 2368, 1230, 1842, 1349, 583, 2378, 1790, 1523, 3171, 2470, 2965, 2824, 2808, 2957, 3268, 1849, 2441, 2074, 9, 3521, 217, 488, 1129, 591, 3534, 2642, 717, 1377, 2986, 2077, 906, 1198, 1122, 185, 386, 692, 506, 2977, 2371, 1254, 2765, 3514, 2663, 2284, 1085, 677, 980, 940, 2141, 1633, 2451, 1737, 991, 67, 273, 3266, 1339]\n"
     ]
    }
   ],
   "source": [
    "sample_len = 100\n",
    "random_indexes = [random.randrange(0, 3561) for i in range(sample_len)]\n",
    "print(random_indexes)"
   ]
  },
  {
   "cell_type": "code",
   "execution_count": 53,
   "id": "e307669a-7ff3-4bca-92d6-33cd9193204f",
   "metadata": {},
   "outputs": [],
   "source": [
    "df1 = pd.read_csv(\"../../data/full/haoran/prompt3.csv\")\n",
    "df2 = pd.read_csv(\"../../data/full/mahati/prompt5.csv\")"
   ]
  },
  {
   "cell_type": "code",
   "execution_count": 54,
   "id": "1479cdfd",
   "metadata": {},
   "outputs": [],
   "source": [
    "sample_df1 = df1.loc[random_indexes]\n",
    "sample_df2 = df2.loc[random_indexes]"
   ]
  },
  {
   "cell_type": "code",
   "execution_count": 55,
   "id": "23e2b737",
   "metadata": {},
   "outputs": [],
   "source": [
    "merged_df = pd.DataFrame()\n",
    "for i in range(sample_len):\n",
    "    merged_df = pd.concat([merged_df, sample_df1.iloc[i], sample_df2.iloc[i]], axis = 1, ignore_index=True)\n",
    "merged_df = merged_df.transpose()"
   ]
  },
  {
   "cell_type": "code",
   "execution_count": 56,
   "id": "39954893",
   "metadata": {},
   "outputs": [],
   "source": [
    "merged_df.to_csv(\"../../data/comparison/promt3_prompt5.csv\")"
   ]
  }
 ],
 "metadata": {
  "kernelspec": {
   "display_name": "Python 3 (ipykernel)",
   "language": "python",
   "name": "python3"
  },
  "language_info": {
   "codemirror_mode": {
    "name": "ipython",
    "version": 3
   },
   "file_extension": ".py",
   "mimetype": "text/x-python",
   "name": "python",
   "nbconvert_exporter": "python",
   "pygments_lexer": "ipython3",
   "version": "3.10.7"
  }
 },
 "nbformat": 4,
 "nbformat_minor": 5
}
