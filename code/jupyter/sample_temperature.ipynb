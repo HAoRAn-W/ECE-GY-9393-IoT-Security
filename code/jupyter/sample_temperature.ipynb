{
 "cells": [
  {
   "cell_type": "code",
   "execution_count": 1,
   "metadata": {},
   "outputs": [],
   "source": [
    "import pandas as pd"
   ]
  },
  {
   "cell_type": "code",
   "execution_count": 2,
   "metadata": {},
   "outputs": [],
   "source": [
    "temp1 = pd.read_csv(\"../../data/temperature/prompt6_0_6.csv\")\n",
    "temp2 = pd.read_csv(\"../../data/temperature/prompt6_0_85.csv\")\n",
    "temp3 = pd.read_csv(\"../../data/temperature/prompt6_1.csv\")\n",
    "temp4 = pd.read_csv(\"../../data/temperature/prompt6_1_5.csv\")"
   ]
  },
  {
   "cell_type": "code",
   "execution_count": 3,
   "metadata": {},
   "outputs": [],
   "source": [
    "merged_df1 = pd.DataFrame()\n",
    "for i in range(50):\n",
    "    merged_df1 = pd.concat([merged_df1, temp1.iloc[i], temp2.iloc[i], temp3.iloc[i],temp4.iloc[i]], axis = 1, ignore_index=True)\n",
    "merged_df1 = merged_df1.transpose()\n",
    "\n",
    "merged_df2 = pd.DataFrame()\n",
    "for i in range(50, 100):\n",
    "    merged_df2 = pd.concat([merged_df2, temp1.iloc[i], temp2.iloc[i], temp3.iloc[i],temp4.iloc[i]], axis = 1, ignore_index=True)\n",
    "merged_df2 = merged_df2.transpose()"
   ]
  },
  {
   "cell_type": "code",
   "execution_count": 6,
   "metadata": {},
   "outputs": [],
   "source": [
    "merged_df1.to_csv(\"../../data/temperature/merged_temp_1.csv\")\n",
    "merged_df2.to_csv(\"../../data/temperature/merged_temp_2.csv\")\n",
    "\n",
    "merged_df1.to_excel(\"../../data/temperature/merged_temp_1.xlsx\")\n",
    "merged_df2.to_excel(\"../../data/temperature/merged_temp_2.xlsx\")"
   ]
  }
 ],
 "metadata": {
  "kernelspec": {
   "display_name": "Python 3",
   "language": "python",
   "name": "python3"
  },
  "language_info": {
   "codemirror_mode": {
    "name": "ipython",
    "version": 3
   },
   "file_extension": ".py",
   "mimetype": "text/x-python",
   "name": "python",
   "nbconvert_exporter": "python",
   "pygments_lexer": "ipython3",
   "version": "3.10.7"
  },
  "orig_nbformat": 4
 },
 "nbformat": 4,
 "nbformat_minor": 2
}
